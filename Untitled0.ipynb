{
  "nbformat": 4,
  "nbformat_minor": 0,
  "metadata": {
    "colab": {
      "provenance": [],
      "authorship_tag": "ABX9TyNTwfXU1xOx4hBK+dhIhK91",
      "include_colab_link": true
    },
    "kernelspec": {
      "name": "python3",
      "display_name": "Python 3"
    },
    "language_info": {
      "name": "python"
    }
  },
  "cells": [
    {
      "cell_type": "markdown",
      "metadata": {
        "id": "view-in-github",
        "colab_type": "text"
      },
      "source": [
        "<a href=\"https://colab.research.google.com/github/ChikoninaLyubov/homeWork01/blob/main/Untitled0.ipynb\" target=\"_parent\"><img src=\"https://colab.research.google.com/assets/colab-badge.svg\" alt=\"Open In Colab\"/></a>"
      ]
    },
    {
      "cell_type": "markdown",
      "source": [
        "f(x) = -12x^4*sin(cos(x)) - 18x^3+5x^2 + 10x - 30\n",
        "\n",
        "1.Определить корни\n",
        "\n",
        "2.Найти интервалы, на которых функция возрастает\n",
        "\n",
        "3.Найти интервалы, на которых функция убывает\n",
        "\n",
        "4.Построить график\n",
        "\n",
        "5.Вычислить вершину\n",
        "\n",
        "6.Определить промежутки, на котором f > 0\n",
        "\n",
        "7.Определить промежутки, на котором f < 0\n",
        "\n"
      ],
      "metadata": {
        "id": "8Kjd6B9r7mXe"
      }
    },
    {
      "cell_type": "code",
      "source": [
        "import numpy as np\n",
        "import matplotlib.pyplot as plt"
      ],
      "metadata": {
        "id": "7wk8a-8LC0-h"
      },
      "execution_count": 24,
      "outputs": []
    },
    {
      "cell_type": "code",
      "source": [
        "limit = 10\n",
        "step = 0.01\n",
        "color = 'b'\n",
        "line_s = '-'\n",
        "direct_up = True"
      ],
      "metadata": {
        "id": "gRm2pRrKC2uh"
      },
      "execution_count": 25,
      "outputs": []
    },
    {
      "cell_type": "code",
      "source": [
        "x = np.arange(-limit, limit, step)"
      ],
      "metadata": {
        "id": "wBa5bpQUC7h3"
      },
      "execution_count": 26,
      "outputs": []
    },
    {
      "cell_type": "code",
      "source": [
        "def switch_color():\n",
        "    global color\n",
        "    if color == 'b':\n",
        "        color = 'r'\n",
        "    else:\n",
        "        color = 'b'\n",
        "    return color"
      ],
      "metadata": {
        "id": "rHtsfScCDFwO"
      },
      "execution_count": 27,
      "outputs": []
    },
    {
      "cell_type": "code",
      "source": [
        "def switch_line():\n",
        "    global line_s\n",
        "    if line_s == '-':\n",
        "        line_s = '--'\n",
        "    else:\n",
        "        line_s = '-'\n",
        "    return line_s"
      ],
      "metadata": {
        "id": "NVMyBYTtDNEs"
      },
      "execution_count": 28,
      "outputs": []
    },
    {
      "cell_type": "code",
      "source": [
        "a, b, c, d, e = -12, -18, 5, 10, 30"
      ],
      "metadata": {
        "id": "OwVJOYw2DSMS"
      },
      "execution_count": 29,
      "outputs": []
    },
    {
      "cell_type": "code",
      "source": [
        "def func(x):\n",
        "    return   -18 * x ** 3 + 5 * x ** 2 + 10 * x - 30"
      ],
      "metadata": {
        "id": "5U3rVCORDUGS"
      },
      "execution_count": 30,
      "outputs": []
    },
    {
      "cell_type": "code",
      "source": [
        "x_change = [(-limit, 'limit')]"
      ],
      "metadata": {
        "id": "srKfAJsTDa8a"
      },
      "execution_count": 31,
      "outputs": []
    },
    {
      "cell_type": "code",
      "source": [
        "for i in range(len(x) - 1):\n",
        "    if (func(x[i]) > 0 and func(x[i + 1]) < 0) or (func(x[i]) < 0 and func(x[i + 1]) > 0):\n",
        "        x_a = np.arange(x[i], x[i+1], 0.0000001)\n",
        "        for j in range(len(x_a) - 1):\n",
        "            if (func(x_a[j]) > 0 and func(x_a[j + 1]) < 0) or (func(x_a[j]) < 0 and func(x_a[j + 1]) > 0):\n",
        "                x_change.append((x_a[j] if abs(0 - x_a[j]) < abs(0 - x_a[j+1]) else x_a[j+1], 'zero'))\n",
        "    if direct_up:\n",
        "        if func(x[i]) > func(x[i + 1]):\n",
        "            x_a = np.arange(x[i], x[i + 1], 0.0000001)\n",
        "            for j in range(len(x_a) - 1):\n",
        "                if func(x_a[j]) > func(x_a[j + 1]):\n",
        "                    x_change.append((x_a[j], 'direct'))\n",
        "                    direct_up = False\n",
        "                    break\n",
        "    else:\n",
        "        if func(x[i]) < func(x[i + 1]):\n",
        "            x_a = np.arange(x[i], x[i + 1], 0.0000001)\n",
        "            for j in range(len(x_a) - 1):\n",
        "                if func(x_a[j]) < func(x_a[j + 1]):\n",
        "                    x_change.append((x_a[j], 'direct'))\n",
        "                    direct_up = True\n",
        "                    break\n",
        "\n",
        "x_change.append((limit, 'limit'))\n",
        "\n",
        "print(x_change)"
      ],
      "metadata": {
        "colab": {
          "base_uri": "https://localhost:8080/"
        },
        "id": "W1kHUM0aDhJK",
        "outputId": "630890af-e499-4564-ab92-96893717c338"
      },
      "execution_count": 32,
      "outputs": [
        {
          "output_type": "stream",
          "name": "stdout",
          "text": [
            "[(-10, 'limit'), (-10.0, 'direct'), (-1.2445797999970218, 'zero'), (-0.34758760000013633, 'direct'), (0.5327727999983161, 'direct'), (10, 'limit')]\n"
          ]
        }
      ]
    },
    {
      "cell_type": "code",
      "source": [
        "for i in range(len(x_change) - 1):\n",
        "    cur_x = np.arange(x_change[i][0], x_change[i + 1][0] + step, step)\n",
        "    if x_change[i][1] == 'zero':\n",
        "        plt.rcParams['lines.linestyle'] = switch_line()\n",
        "        plt.plot(cur_x, func(cur_x), color)\n",
        "    else:\n",
        "        plt.plot(cur_x, func(cur_x), switch_color())\n",
        "\n",
        "min_y = min(func(x))\n",
        "min_x = -limit\n",
        "for x in x_change:\n",
        "    if x[1] in ['direct','limit']:\n",
        "        if abs(func(x[0]) - min_y) < abs(min_x - min_y):\n",
        "            min_x = x[0]\n",
        "\n",
        "roots = []\n",
        "for x in x_change:\n",
        "    if x[1] == 'zero':\n",
        "        roots.append(str(round(x[0], 2)))\n",
        "        plt.plot(x[0], func(x[0]), 'gx')\n",
        "\n",
        "plt.plot(min_x, min_y, 'yo', label=f'Экстремум функции на промежутке [{-limit};{limit}]: ({round(min_x, 2)}, {round(min_y, 2)})')\n",
        "\n",
        "plt.rcParams['lines.linestyle'] = '-'\n",
        "plt.plot(0, 0, 'b', label='Убывание > 0')\n",
        "plt.plot(0, 0, 'r', label='Возрастание > 0')\n",
        "plt.rcParams['lines.linestyle'] = '--'\n",
        "plt.plot(0, 0, 'b', label='Убывание < 0')\n",
        "plt.plot(0, 0, 'r', label='Возрастание < 0')\n",
        "plt.title(f'Корни на промежутке [{-limit};{limit}]: {\", \".join(roots)}')\n",
        "plt.legend()\n",
        "plt.show()"
      ],
      "metadata": {
        "colab": {
          "base_uri": "https://localhost:8080/",
          "height": 281
        },
        "id": "tERILFRPDolZ",
        "outputId": "0e966007-2c83-47ad-f3ed-2b4605d77cff"
      },
      "execution_count": 33,
      "outputs": [
        {
          "output_type": "display_data",
          "data": {
            "text/plain": [
              "<Figure size 432x288 with 1 Axes>"
            ],
            "image/png": "[encoded data removed]"
          },
          "metadata": {
            "needs_background": "light"
          }
        }
      ]
    }
  ]
}